{
 "cells": [
  {
   "cell_type": "markdown",
   "metadata": {},
   "source": [
    "### Import Modules"
   ]
  },
  {
   "cell_type": "code",
   "execution_count": null,
   "metadata": {
    "collapsed": false
   },
   "outputs": [],
   "source": [
    "#general modules\n",
    "from os import listdir\n",
    "from os.path import isfile, join\n",
    "import time\n",
    "\n",
    "#installed modules\n",
    "import numpy as np\n",
    "import tensorflow as tf\n",
    "import pandas as pd\n",
    "from PIL import Image\n",
    "import matplotlib.pyplot as plt\n",
    "%matplotlib inline"
   ]
  },
  {
   "cell_type": "markdown",
   "metadata": {},
   "source": [
    "### Specifcy model and labels path"
   ]
  },
  {
   "cell_type": "code",
   "execution_count": null,
   "metadata": {
    "collapsed": true
   },
   "outputs": [],
   "source": [
    "modelFullPath = '/Users/mrubashkin/Desktop/output_graph.pb'\n",
    "labelsFullPath = '/Users/mrubashkin/Desktop/output_labels.txt'"
   ]
  },
  {
   "cell_type": "code",
   "execution_count": null,
   "metadata": {
    "collapsed": false
   },
   "outputs": [],
   "source": [
    "def create_graph():\n",
    "    \"\"\"Creates a graph from saved GraphDef file and returns a saver.\"\"\"\n",
    "    # Creates graph from saved graph_def.pb.\n",
    "    with tf.gfile.FastGFile(modelFullPath, 'rb') as f:\n",
    "        graph_def = tf.GraphDef()\n",
    "        #this is the graph that we will assign to the run_inference_on_image function\n",
    "        graph_def.ParseFromString(f.read())\n",
    "        tf.import_graph_def(graph_def, name='')\n",
    "        #graph_output=tf.import_graph_def(graph_def, name='')\n",
    "        #graph_output=graph_def.ParseFromString(f.read())\n",
    "\n",
    "def create_and_persist_graph():\n",
    "    with tf.Session() as persisted_sess:\n",
    "        # Load Graph\n",
    "        with tf.gfile.FastGFile(modelFullPath,'rb') as f:\n",
    "            graph_def = tf.GraphDef()\n",
    "            graph_def.ParseFromString(f.read())\n",
    "            persisted_sess.graph.as_default()\n",
    "            tf.import_graph_def(graph_def, name='')\n",
    "        return persisted_sess.graph\n",
    "        \n",
    "def run_inference_on_image():\n",
    "    classification_scores={}\n",
    "    answer = None\n",
    "\n",
    "    if not tf.gfile.Exists(imagePath):\n",
    "        tf.logging.fatal('File does not exist %s', imagePath)\n",
    "        return answer\n",
    "\n",
    "    image_data = tf.gfile.FastGFile(imagePath, 'rb').read()\n",
    "    \n",
    "    with tf.Session(target='', graph=persisted_result, config=None) as sess:\n",
    "        softmax_tensor = sess.graph.get_tensor_by_name('final_result:0')\n",
    "        predictions = sess.run(softmax_tensor,\n",
    "                               {'DecodeJpeg/contents:0': image_data})\n",
    "        predictions = np.squeeze(predictions)\n",
    "\n",
    "        top_k = predictions.argsort()[-6:][::-1]  # Getting top 5 predictions\n",
    "        f = open(labelsFullPath, 'rb')\n",
    "        lines = f.readlines()\n",
    "        labels = [str(w).replace(\"\\n\", \"\") for w in lines]\n",
    "        for node_id in top_k:\n",
    "            human_string = labels[node_id]\n",
    "            score = predictions[node_id]\n",
    "            #store output as dictionary\n",
    "            classification_scores[human_string]=score\n",
    "            #print('%s (score = %.5f)' % (human_string, score))\n",
    "\n",
    "        return classification_scores"
   ]
  },
  {
   "cell_type": "markdown",
   "metadata": {
    "collapsed": true
   },
   "source": [
    "### Creates graph from saved GraphDef."
   ]
  },
  {
   "cell_type": "code",
   "execution_count": null,
   "metadata": {
    "collapsed": false
   },
   "outputs": [],
   "source": [
    "\n",
    "persisted_result=create_and_persist_graph()"
   ]
  },
  {
   "cell_type": "code",
   "execution_count": null,
   "metadata": {
    "collapsed": false
   },
   "outputs": [],
   "source": [
    "image_dir='/Users/mrubashkin/Desktop/trains_to_classify/'\n",
    "image_files = [f for f in listdir(image_dir) if isfile(join(image_dir, f))]"
   ]
  },
  {
   "cell_type": "code",
   "execution_count": null,
   "metadata": {
    "collapsed": false,
    "scrolled": false
   },
   "outputs": [],
   "source": [
    "output=[]\n",
    "print 'Classifying image in path: ' + image_dir\n",
    "for image in image_files:\n",
    "    imagePath = image_dir + image\n",
    "    \n",
    "    #Classify image, and record time to classify\n",
    "    start_time=time.time()\n",
    "    classification_scores=run_inference_on_image()\n",
    "    print classification_scores\n",
    "    output.append(classification_scores)\n",
    "    print 'Classification of %s took %s seconds \\n'%(image,time.time()-start_time)"
   ]
  },
  {
   "cell_type": "code",
   "execution_count": null,
   "metadata": {
    "collapsed": false
   },
   "outputs": [],
   "source": [
    "#create arrays for graphing\n",
    "trucks=[]\n",
    "cars=[]\n",
    "empty_road_rails=[]\n",
    "caltrain=[]\n",
    "freight_train=[]\n",
    "light_rail=[]\n",
    "\n",
    "for data_point in output:\n",
    "    trucks.append(data_point['trucks'])\n",
    "    cars.append(data_point['cars'])\n",
    "    caltrain.append(data_point['caltrain'])\n",
    "    freight_train.append(data_point['freight train'])\n",
    "    light_rail.append(data_point['light rail'])\n",
    "    empty_road_rails.append(data_point['empty road rails'])"
   ]
  },
  {
   "cell_type": "code",
   "execution_count": null,
   "metadata": {
    "collapsed": false
   },
   "outputs": [],
   "source": [
    "fig=plt.figure(num=None, figsize=(10, 5), dpi=80, facecolor='w', edgecolor='k')\n",
    "\n",
    "plt.rcParams.update({'font.size': 14})\n",
    "plt.xlim([0,215])\n",
    "plt.xlabel('Frame Number', fontsize=18)\n",
    "plt.ylabel('Probability', fontsize=18)\n",
    "plt.gca().set_color_cycle(['orange', 'gray', 'red', 'green','blue','black'])\n",
    "\n",
    "plt.plot(trucks,linewidth=1.5)\n",
    "plt.plot(cars,linewidth=1.5)\n",
    "plt.plot(caltrain,linewidth=1.5)\n",
    "plt.plot(freight_train,linewidth=1.5)\n",
    "plt.plot(light_rail,linewidth=1.5)\n",
    "plt.plot(empty_road_rails,linewidth=1.5)\n",
    "\n",
    "plt.legend(['Trucks', 'Cars', 'Caltrain', 'Freight Train', 'Light Rail',\\\n",
    "            'No Vehicle'], bbox_to_anchor=(1.4, 1.025))\n",
    "\n",
    "fig.show()\n",
    "fig.savefig('/Users/mrubashkin/Desktop/test.png',dpi=fig.dpi, bbox_inches='tight')"
   ]
  },
  {
   "cell_type": "code",
   "execution_count": null,
   "metadata": {
    "collapsed": false
   },
   "outputs": [],
   "source": [
    "#Plot image using Pillow and matplotlib\n",
    "img = Image.open(imagePath)\n",
    "img.thumbnail((64, 64), Image.ANTIALIAS) # resizes image in-place\n",
    "imgplot = plt.imshow(img)\n",
    "plt.figure()\n",
    "plt.show(mpimg.imread(imagePath))"
   ]
  },
  {
   "cell_type": "code",
   "execution_count": null,
   "metadata": {
    "collapsed": true
   },
   "outputs": [],
   "source": []
  }
 ],
 "metadata": {
  "kernelspec": {
   "display_name": "Python 2",
   "language": "python",
   "name": "python2"
  },
  "language_info": {
   "codemirror_mode": {
    "name": "ipython",
    "version": 2
   },
   "file_extension": ".py",
   "mimetype": "text/x-python",
   "name": "python",
   "nbconvert_exporter": "python",
   "pygments_lexer": "ipython2",
   "version": "2.7.13"
  }
 },
 "nbformat": 4,
 "nbformat_minor": 0
}
